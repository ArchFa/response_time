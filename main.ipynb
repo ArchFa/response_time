{
 "cells": [
  {
   "cell_type": "code",
   "execution_count": 26,
   "metadata": {},
   "outputs": [],
   "source": [
    "import pandas as pd\n",
    "import numpy as np\n",
    "import streamlit as st\n"
   ]
  },
  {
   "cell_type": "code",
   "execution_count": 27,
   "metadata": {},
   "outputs": [],
   "source": [
    "st.title(\"Задачи и распределение первого отклика\")\n",
    "\n",
    "upload_file = \"offers_responds_06_01_07_01.txt\"\n",
    "\n",
    "df = pd.read_csv(upload_file, sep='|')\n",
    "#df = pd.read_csv('/Users/arturfattahov/Downloads/Telegram Desktop/offers_responds_06_01_07_01.txt', sep='|')\n",
    "df = df.dropna()\n",
    "\n",
    "df.columns = [c.lower().replace(' ','') for c in df.columns]\n",
    "\n",
    "df['responds_id'] = df['responds_id'].str.strip()\n",
    "df = df.query('responds_id != \"\"')\n",
    "\n",
    "df[\"category_id\"] = df[\"category_id\"].astype(int)\n",
    "df[\"client_phone\"] = df[\"client_phone\"].astype(int)\n",
    "df[\"responds_id\"] = df[\"responds_id\"].astype(int)\n",
    "df[\"client_phone\"] = df[\"client_phone\"].astype(str)\n",
    "df['offer_created_at']= pd.to_datetime(df['offer_created_at'], format='%Y-%m-%d %H:%M:%S')\n",
    "df['respond_created_at']= pd.to_datetime(df['respond_created_at'], format='%Y-%m-%d %H:%M:%S')\n",
    "\n",
    "df['pph'] = df.client_phone.str[:3]\n",
    "df = df[~df.pph.str.contains('520')]"
   ]
  },
  {
   "cell_type": "code",
   "execution_count": 4,
   "metadata": {},
   "outputs": [],
   "source": [
    "df = df.sort_values(by=['state', 'offer_id', 'respond_created_at'])\n",
    "df['sequence']=df.groupby('offer_id').cumcount() + 1"
   ]
  },
  {
   "cell_type": "code",
   "execution_count": 5,
   "metadata": {},
   "outputs": [],
   "source": [
    "df = df.query('sequence == 1')"
   ]
  },
  {
   "cell_type": "code",
   "execution_count": 6,
   "metadata": {},
   "outputs": [],
   "source": [
    "df['diff_time'] = df['respond_created_at'] - df['offer_created_at']"
   ]
  },
  {
   "cell_type": "code",
   "execution_count": 7,
   "metadata": {},
   "outputs": [],
   "source": [
    "df['diff_time'] = df['diff_time'].astype('timedelta64[m]')\n",
    "df['diff_time'] = df['diff_time'] / 60\n",
    "df['diff_time'] = df['diff_time'].round(2)"
   ]
  },
  {
   "cell_type": "code",
   "execution_count": 8,
   "metadata": {},
   "outputs": [],
   "source": [
    "def time_distribution(diff_time):\n",
    "    if diff_time < 0.5:\n",
    "        return 'Менее 30 минут'\n",
    "    elif 0.5 <= diff_time < 1:\n",
    "        return 'От 30 минут до 1 часа'\n",
    "    elif 1 <= diff_time < 2:\n",
    "        return 'От 1 до 2 часов'\n",
    "    elif 2 <= diff_time < 5:\n",
    "        return 'От 2 до 5 часов'\n",
    "    elif 5 <= diff_time < 10:\n",
    "        return 'От 5 до 10 часов'\n",
    "    elif 10 <= diff_time < 15:\n",
    "        return 'От 10 до 15 часов'\n",
    "    elif 15 <= diff_time < 24:\n",
    "        return 'От 15 до 24 часов'\n",
    "    elif 24 <= diff_time < 36:\n",
    "        return 'От 24 до 36 часов'\n",
    "    elif 36 <= diff_time < 48:\n",
    "        return 'От 36 до 48 часов'\n",
    "    elif 48 <= diff_time < 72:\n",
    "        return 'От 48 до 72 часов'\n",
    "    else:\n",
    "        return 'Более 72 часов'\n",
    "df['time_period'] = df['diff_time'].apply(time_distribution)"
   ]
  },
  {
   "cell_type": "code",
   "execution_count": 9,
   "metadata": {},
   "outputs": [],
   "source": [
    "df = df.drop(['client_phone', 'offer_created_at', 'responds_id', 'offer_id','executor_phone', 'respond_created_at', 'sequence', 'diff_time', 'pph'], axis=1)"
   ]
  },
  {
   "cell_type": "code",
   "execution_count": 10,
   "metadata": {},
   "outputs": [],
   "source": [
    "import numpy as np\n",
    "df['count'] = 1\n",
    "\n",
    "pivot_df = df.pivot_table(index=[\"state\", 'category_id', 'time_period'], values='count', aggfunc='count')\n",
    "pivot_df = pivot_df.reset_index()"
   ]
  },
  {
   "cell_type": "code",
   "execution_count": 11,
   "metadata": {},
   "outputs": [],
   "source": [
    "df = df.sort_values(by=['state', 'category_id'])"
   ]
  },
  {
   "cell_type": "code",
   "execution_count": 12,
   "metadata": {},
   "outputs": [],
   "source": [
    "df_l = pivot_df.pivot_table(index=['state', 'category_id'], columns='time_period')"
   ]
  },
  {
   "cell_type": "code",
   "execution_count": 13,
   "metadata": {},
   "outputs": [],
   "source": [
    "df_l = df_l.reset_index()"
   ]
  },
  {
   "cell_type": "code",
   "execution_count": 14,
   "metadata": {},
   "outputs": [],
   "source": [
    "df_l.columns = ['state', 'category_id', 'Более 72 часов', 'Менее 30 минут', 'От 1 до 2 часов',\n",
    "               'От 10 до 15 часов', 'От 15 до 24 часов', 'От 2 до 5 часов', 'От 24 до 36 часов',\n",
    "               'От 30 минут до 1 часа', 'От 36 до 48 часов', 'От 48 до 72 часов', 'От 5 до 10 часов']"
   ]
  },
  {
   "cell_type": "code",
   "execution_count": 15,
   "metadata": {},
   "outputs": [],
   "source": [
    "new_df = df_l.reindex(columns=['state', 'category_id', 'Менее 30 минут', 'От 30 минут до 1 часа',\n",
    "                               'От 1 до 2 часов', 'От 2 до 5 часов', 'От 5 до 10 часов', 'От 10 до 15 часов',\n",
    "                               'От 15 до 24 часов', 'От 24 до 36 часов', 'От 36 до 48 часов',\n",
    "                               'От 48 до 72 часов', 'Более 72 часов'])"
   ]
  },
  {
   "cell_type": "code",
   "execution_count": 16,
   "metadata": {},
   "outputs": [],
   "source": [
    "new_df = new_df.fillna(0)"
   ]
  },
  {
   "cell_type": "code",
   "execution_count": 17,
   "metadata": {},
   "outputs": [],
   "source": [
    "for col in new_df.columns:\n",
    "    if str(new_df[col].dtype) == 'float64':\n",
    "        new_df[col] = new_df[col].astype(int)"
   ]
  },
  {
   "cell_type": "code",
   "execution_count": 18,
   "metadata": {},
   "outputs": [],
   "source": [
    "new_df['total_task'] = new_df[['Менее 30 минут', 'От 30 минут до 1 часа',\n",
    "       'От 1 до 2 часов', 'От 2 до 5 часов', 'От 5 до 10 часов',\n",
    "       'От 10 до 15 часов', 'От 15 до 24 часов', 'От 24 до 36 часов',\n",
    "       'От 36 до 48 часов', 'От 48 до 72 часов', 'Более 72 часов']].sum(axis=1)"
   ]
  },
  {
   "cell_type": "code",
   "execution_count": null,
   "metadata": {},
   "outputs": [],
   "source": [
    "col_multi, col_em = st.columns([2, 3])\n",
    "selected_sn = col_multi.selectbox(\n",
    "    \"Выберите штат\",\n",
    "    options=new_df['state'].unique().tolist(),\n",
    "    index=0,\n",
    ")\n",
    "\n",
    "col_em.write(\"\")\n",
    "col_em.write(\"\")\n",
    "col_em.write(\n",
    "    f\"{selected_sn} содержит {new_df.query('state == @selected_sn').sum()[13]} задач с откликом\"\n",
    ")\n",
    "st.write(new_df.query('state == @selected_sn'))"
   ]
  }
 ],
 "metadata": {
  "interpreter": {
   "hash": "aee8b7b246df8f9039afb4144a1f6fd8d2ca17a180786b69acc140d282b71a49"
  },
  "kernelspec": {
   "display_name": "Python 3.10.4 64-bit",
   "language": "python",
   "name": "python3"
  },
  "language_info": {
   "codemirror_mode": {
    "name": "ipython",
    "version": 3
   },
   "file_extension": ".py",
   "mimetype": "text/x-python",
   "name": "python",
   "nbconvert_exporter": "python",
   "pygments_lexer": "ipython3",
   "version": "3.10.4"
  },
  "orig_nbformat": 4
 },
 "nbformat": 4,
 "nbformat_minor": 2
}
